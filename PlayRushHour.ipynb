{
 "cells": [
  {
   "cell_type": "code",
   "execution_count": null,
   "metadata": {},
   "outputs": [],
   "source": [
    "from IPython.display import display, clear_output"
   ]
  },
  {
   "cell_type": "code",
   "execution_count": null,
   "metadata": {},
   "outputs": [],
   "source": [
    "%load_ext autoreload\n",
    "%autoreload 2\n",
    "\n",
    "from rush_objects.base import RushGame,Board\n",
    "from rush_objects.solvers import BreadthFirstGraphSeach"
   ]
  },
  {
   "cell_type": "markdown",
   "metadata": {},
   "source": [
    "### Define the board "
   ]
  },
  {
   "cell_type": "code",
   "execution_count": null,
   "metadata": {},
   "outputs": [],
   "source": [
    "board = Board(6,2)\n",
    "board.insert_car('yellow',[0,2],3,'h')\n",
    "board.insert_car('purple',[1,0],3,'h')\n",
    "board.insert_car('red',[2,0],2,'h')\n",
    "board.insert_car('green',[3,0],3,'h')\n",
    "board.insert_car('orange',[4,0],2,'v')\n",
    "board.insert_car('cyan',[4,2],2,'v')\n",
    "board.insert_car('blue',[1,4],3,'v')\n",
    "board.insert_car('light-green',[2,5],2,'v')\n",
    "board.insert_car('pink',[4,4],2,'h')\n",
    "board.insert_car('dark',[5,4],2,'h')\n",
    "board.render()"
   ]
  },
  {
   "cell_type": "code",
   "execution_count": null,
   "metadata": {},
   "outputs": [],
   "source": [
    "board = Board(6,2)\n",
    "board.insert_car('red',[2,0],2,'h')\n",
    "board.insert_car('purple',[3,0],3,'v')\n",
    "board.insert_car('light-green',[0,1],2,'v')\n",
    "board.insert_car('blue',[5,1],3,'h')\n",
    "board.insert_car('grey',[3,2],2,'v')\n",
    "board.insert_car('another_blue',[1,2],2,'v')\n",
    "board.insert_car('orange',[0,2],2,'h')\n",
    "board.insert_car('green',[1,3],2,'v')\n",
    "board.insert_car('yellow',[3,3],2,'v')\n",
    "board.insert_car('gray',[2,4],2,'v')\n",
    "board.insert_car('cyan',[0,4],2,'v')\n",
    "board.insert_car('dark',[5,4],2,'h')\n",
    "board.insert_car('pink',[0,5],2,'v')\n",
    "board.insert_car('magenta',[2,5],3,'v')\n",
    "board.render()"
   ]
  },
  {
   "cell_type": "markdown",
   "metadata": {},
   "source": [
    "### Define the game "
   ]
  },
  {
   "cell_type": "code",
   "execution_count": null,
   "metadata": {},
   "outputs": [],
   "source": [
    "game = RushGame(board)"
   ]
  },
  {
   "cell_type": "markdown",
   "metadata": {},
   "source": [
    "### Solve the game and visualize the solution"
   ]
  },
  {
   "cell_type": "code",
   "execution_count": null,
   "metadata": {},
   "outputs": [],
   "source": [
    "Solver = BreadthFirstGraphSeach(game)\n",
    "solution = Solver(max_depth=500,printouts=100)\n",
    "print(\"Steps for the solution: %s\"%len(solution.path()))"
   ]
  },
  {
   "cell_type": "code",
   "execution_count": null,
   "metadata": {},
   "outputs": [],
   "source": [
    "for state in solution.path():\n",
    "    clear_output(wait=True)\n",
    "    display(print(Board.from_state(state).render(return_string=True)))\n",
    "    time.sleep(0.5)"
   ]
  },
  {
   "cell_type": "code",
   "execution_count": null,
   "metadata": {},
   "outputs": [],
   "source": []
  }
 ],
 "metadata": {
  "kernelspec": {
   "display_name": "virtuals",
   "language": "python",
   "name": "virtuals"
  },
  "language_info": {
   "codemirror_mode": {
    "name": "ipython",
    "version": 3
   },
   "file_extension": ".py",
   "mimetype": "text/x-python",
   "name": "python",
   "nbconvert_exporter": "python",
   "pygments_lexer": "ipython3",
   "version": "3.5.3"
  }
 },
 "nbformat": 4,
 "nbformat_minor": 2
}
