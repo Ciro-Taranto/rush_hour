{
 "cells": [
  {
   "cell_type": "code",
   "execution_count": 11,
   "metadata": {},
   "outputs": [],
   "source": [
    "from IPython.display import display, clear_output\n",
    "import time"
   ]
  },
  {
   "cell_type": "code",
   "execution_count": 12,
   "metadata": {},
   "outputs": [
    {
     "name": "stdout",
     "output_type": "stream",
     "text": [
      "The autoreload extension is already loaded. To reload it, use:\n",
      "  %reload_ext autoreload\n"
     ]
    }
   ],
   "source": [
    "%load_ext autoreload\n",
    "%autoreload 2\n",
    "\n",
    "from rush_objects.base import RushHour,Board\n",
    "from rush_objects.solvers import BreadthFirstGraphSeach"
   ]
  },
  {
   "cell_type": "markdown",
   "metadata": {},
   "source": [
    "### Define the board "
   ]
  },
  {
   "cell_type": "code",
   "execution_count": 13,
   "metadata": {},
   "outputs": [
    {
     "name": "stdout",
     "output_type": "stream",
     "text": [
      "|0|0|\u001b[1m\u001b[1m\u001b[33mX\u001b[0m|\u001b[1m\u001b[1m\u001b[33mX\u001b[0m|\u001b[1m\u001b[1m\u001b[33mX\u001b[0m|0|\n",
      "|\u001b[1m\u001b[1m\u001b[35mX\u001b[0m|\u001b[1m\u001b[1m\u001b[35mX\u001b[0m|\u001b[1m\u001b[1m\u001b[35mX\u001b[0m|0|\u001b[1m\u001b[1m\u001b[34mX\u001b[0m|0|\n",
      "|\u001b[1m\u001b[1m\u001b[31mX\u001b[0m|\u001b[1m\u001b[1m\u001b[31mX\u001b[0m|0|0|\u001b[1m\u001b[1m\u001b[34mX\u001b[0m|\u001b[1m\u001b[1m\u001b[92mX\u001b[0m| => EXIT\n",
      "|\u001b[1m\u001b[1m\u001b[32mX\u001b[0m|\u001b[1m\u001b[1m\u001b[32mX\u001b[0m|\u001b[1m\u001b[1m\u001b[32mX\u001b[0m|0|\u001b[1m\u001b[1m\u001b[34mX\u001b[0m|\u001b[1m\u001b[1m\u001b[92mX\u001b[0m|\n",
      "|\u001b[1m\u001b[1m\u001b[95mX\u001b[0m|0|\u001b[1m\u001b[1m\u001b[36mX\u001b[0m|0|\u001b[1m\u001b[1m\u001b[91mX\u001b[0m|\u001b[1m\u001b[1m\u001b[91mX\u001b[0m|\n",
      "|\u001b[1m\u001b[1m\u001b[95mX\u001b[0m|0|\u001b[1m\u001b[1m\u001b[36mX\u001b[0m|0|\u001b[1m\u001b[1m\u001b[30mX\u001b[0m|\u001b[1m\u001b[1m\u001b[30mX\u001b[0m|\n",
      "\n"
     ]
    }
   ],
   "source": [
    "board = Board(6,2)\n",
    "board.insert_car('yellow',[0,2],3,'h')\n",
    "board.insert_car('purple',[1,0],3,'h')\n",
    "board.insert_car('red',[2,0],2,'h')\n",
    "board.insert_car('green',[3,0],3,'h')\n",
    "board.insert_car('orange',[4,0],2,'v')\n",
    "board.insert_car('cyan',[4,2],2,'v')\n",
    "board.insert_car('blue',[1,4],3,'v')\n",
    "board.insert_car('light-green',[2,5],2,'v')\n",
    "board.insert_car('pink',[4,4],2,'h')\n",
    "board.insert_car('dark',[5,4],2,'h')\n",
    "board.render()"
   ]
  },
  {
   "cell_type": "code",
   "execution_count": 14,
   "metadata": {},
   "outputs": [
    {
     "name": "stdout",
     "output_type": "stream",
     "text": [
      "|0|\u001b[1m\u001b[1m\u001b[92mX\u001b[0m|\u001b[1m\u001b[1m\u001b[95mX\u001b[0m|\u001b[1m\u001b[1m\u001b[95mX\u001b[0m|\u001b[1m\u001b[1m\u001b[36mX\u001b[0m|\u001b[1m\u001b[1m\u001b[91mX\u001b[0m|\n",
      "|0|\u001b[1m\u001b[1m\u001b[92mX\u001b[0m|\u001b[1m\u001b[1m\u001b[34mX\u001b[0m|\u001b[1m\u001b[1m\u001b[32mX\u001b[0m|\u001b[1m\u001b[1m\u001b[36mX\u001b[0m|\u001b[1m\u001b[1m\u001b[91mX\u001b[0m|\n",
      "|\u001b[1m\u001b[1m\u001b[31mX\u001b[0m|\u001b[1m\u001b[1m\u001b[31mX\u001b[0m|\u001b[1m\u001b[1m\u001b[34mX\u001b[0m|\u001b[1m\u001b[1m\u001b[32mX\u001b[0m|\u001b[1m\u001b[1m\u001b[90mX\u001b[0m|\u001b[1m\u001b[1m\u001b[35mX\u001b[0m| => EXIT\n",
      "|\u001b[1m\u001b[1m\u001b[35mX\u001b[0m|0|\u001b[1m\u001b[1m\u001b[90mX\u001b[0m|\u001b[1m\u001b[1m\u001b[33mX\u001b[0m|\u001b[1m\u001b[1m\u001b[90mX\u001b[0m|\u001b[1m\u001b[1m\u001b[35mX\u001b[0m|\n",
      "|\u001b[1m\u001b[1m\u001b[35mX\u001b[0m|0|\u001b[1m\u001b[1m\u001b[90mX\u001b[0m|\u001b[1m\u001b[1m\u001b[33mX\u001b[0m|0|\u001b[1m\u001b[1m\u001b[35mX\u001b[0m|\n",
      "|\u001b[1m\u001b[1m\u001b[35mX\u001b[0m|\u001b[1m\u001b[1m\u001b[34mX\u001b[0m|\u001b[1m\u001b[1m\u001b[34mX\u001b[0m|\u001b[1m\u001b[1m\u001b[34mX\u001b[0m|\u001b[1m\u001b[1m\u001b[30mX\u001b[0m|\u001b[1m\u001b[1m\u001b[30mX\u001b[0m|\n",
      "\n"
     ]
    }
   ],
   "source": [
    "board = Board(6,2)\n",
    "board.insert_car('red',[2,0],2,'h')\n",
    "board.insert_car('purple',[3,0],3,'v')\n",
    "board.insert_car('light-green',[0,1],2,'v')\n",
    "board.insert_car('blue',[5,1],3,'h')\n",
    "board.insert_car('grey',[3,2],2,'v')\n",
    "board.insert_car('another_blue',[1,2],2,'v')\n",
    "board.insert_car('orange',[0,2],2,'h')\n",
    "board.insert_car('green',[1,3],2,'v')\n",
    "board.insert_car('yellow',[3,3],2,'v')\n",
    "board.insert_car('gray',[2,4],2,'v')\n",
    "board.insert_car('cyan',[0,4],2,'v')\n",
    "board.insert_car('dark',[5,4],2,'h')\n",
    "board.insert_car('pink',[0,5],2,'v')\n",
    "board.insert_car('magenta',[2,5],3,'v')\n",
    "board.render()"
   ]
  },
  {
   "cell_type": "markdown",
   "metadata": {},
   "source": [
    "### Define the game "
   ]
  },
  {
   "cell_type": "code",
   "execution_count": 15,
   "metadata": {},
   "outputs": [],
   "source": [
    "game = RushHour(board)"
   ]
  },
  {
   "cell_type": "markdown",
   "metadata": {},
   "source": [
    "### Solve the game and visualize the solution"
   ]
  },
  {
   "cell_type": "code",
   "execution_count": 16,
   "metadata": {},
   "outputs": [
    {
     "name": "stdout",
     "output_type": "stream",
     "text": [
      "- Checked already 100 nodes\n",
      "- Checked already 200 nodes\n",
      "- Checked already 300 nodes\n",
      "Solution found in 363 steps\n",
      "Steps for the solution: 41\n"
     ]
    }
   ],
   "source": [
    "Solver = BreadthFirstGraphSeach(game)\n",
    "solution = Solver(max_depth=500,printouts=100)\n",
    "print(\"Steps for the solution: %s\"%len(solution.path()))"
   ]
  },
  {
   "cell_type": "code",
   "execution_count": 17,
   "metadata": {},
   "outputs": [
    {
     "name": "stdout",
     "output_type": "stream",
     "text": [
      "|\u001b[1m\u001b[1m\u001b[95mX\u001b[0m|\u001b[1m\u001b[1m\u001b[95mX\u001b[0m|\u001b[1m\u001b[1m\u001b[34mX\u001b[0m|\u001b[1m\u001b[1m\u001b[32mX\u001b[0m|\u001b[1m\u001b[1m\u001b[36mX\u001b[0m|\u001b[1m\u001b[1m\u001b[91mX\u001b[0m|\n",
      "|0|0|\u001b[1m\u001b[1m\u001b[34mX\u001b[0m|\u001b[1m\u001b[1m\u001b[32mX\u001b[0m|\u001b[1m\u001b[1m\u001b[36mX\u001b[0m|\u001b[1m\u001b[1m\u001b[91mX\u001b[0m|\n",
      "|\u001b[1m\u001b[1m\u001b[35mX\u001b[0m|0|0|0|\u001b[1m\u001b[1m\u001b[31mX\u001b[0m|\u001b[1m\u001b[1m\u001b[31mX\u001b[0m| => EXIT\n",
      "|\u001b[1m\u001b[1m\u001b[35mX\u001b[0m|\u001b[1m\u001b[1m\u001b[92mX\u001b[0m|\u001b[1m\u001b[1m\u001b[90mX\u001b[0m|\u001b[1m\u001b[1m\u001b[33mX\u001b[0m|\u001b[1m\u001b[1m\u001b[90mX\u001b[0m|\u001b[1m\u001b[1m\u001b[35mX\u001b[0m|\n",
      "|\u001b[1m\u001b[1m\u001b[35mX\u001b[0m|\u001b[1m\u001b[1m\u001b[92mX\u001b[0m|\u001b[1m\u001b[1m\u001b[90mX\u001b[0m|\u001b[1m\u001b[1m\u001b[33mX\u001b[0m|\u001b[1m\u001b[1m\u001b[90mX\u001b[0m|\u001b[1m\u001b[1m\u001b[35mX\u001b[0m|\n",
      "|\u001b[1m\u001b[1m\u001b[34mX\u001b[0m|\u001b[1m\u001b[1m\u001b[34mX\u001b[0m|\u001b[1m\u001b[1m\u001b[34mX\u001b[0m|\u001b[1m\u001b[1m\u001b[30mX\u001b[0m|\u001b[1m\u001b[1m\u001b[30mX\u001b[0m|\u001b[1m\u001b[1m\u001b[35mX\u001b[0m|\n",
      "\n"
     ]
    },
    {
     "data": {
      "text/plain": [
       "None"
      ]
     },
     "metadata": {},
     "output_type": "display_data"
    }
   ],
   "source": [
    "for state in solution.path():\n",
    "    clear_output(wait=True)\n",
    "    display(print(Board.from_state(state).render(return_string=True)))\n",
    "    time.sleep(0.5)"
   ]
  },
  {
   "cell_type": "code",
   "execution_count": null,
   "metadata": {},
   "outputs": [],
   "source": []
  }
 ],
 "metadata": {
  "kernelspec": {
   "display_name": "virtuals",
   "language": "python",
   "name": "virtuals"
  },
  "language_info": {
   "codemirror_mode": {
    "name": "ipython",
    "version": 3
   },
   "file_extension": ".py",
   "mimetype": "text/x-python",
   "name": "python",
   "nbconvert_exporter": "python",
   "pygments_lexer": "ipython3",
   "version": "3.5.3"
  }
 },
 "nbformat": 4,
 "nbformat_minor": 2
}
