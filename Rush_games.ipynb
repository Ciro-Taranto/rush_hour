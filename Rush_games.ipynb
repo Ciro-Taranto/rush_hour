{
 "cells": [
  {
   "cell_type": "code",
   "execution_count": 1,
   "metadata": {},
   "outputs": [],
   "source": [
    "import pylab as plt\n",
    "import numpy as np \n",
    "from collections import OrderedDict\n",
    "from colorama import Fore, Style\n",
    "import time\n",
    "import sys\n",
    "import psutil\n",
    "from IPython.display import display, clear_output\n",
    "%matplotlib inline"
   ]
  },
  {
   "cell_type": "code",
   "execution_count": 2,
   "metadata": {},
   "outputs": [],
   "source": [
    "%load_ext autoreload\n",
    "%autoreload 2\n",
    "from rush_objects.rushhour_objects import Board\n",
    "from rush_objects.rush_solver import RushGame\n"
   ]
  },
  {
   "cell_type": "code",
   "execution_count": 64,
   "metadata": {},
   "outputs": [],
   "source": [
    "board = Board(6,2)"
   ]
  },
  {
   "cell_type": "code",
   "execution_count": 65,
   "metadata": {},
   "outputs": [
    {
     "name": "stdout",
     "output_type": "stream",
     "text": [
      "|0|0|\u001b[1m\u001b[1m\u001b[33mX\u001b[0m|\u001b[1m\u001b[1m\u001b[33mX\u001b[0m|\u001b[1m\u001b[1m\u001b[33mX\u001b[0m|0|\n",
      "|\u001b[1m\u001b[1m\u001b[35mX\u001b[0m|\u001b[1m\u001b[1m\u001b[35mX\u001b[0m|\u001b[1m\u001b[1m\u001b[35mX\u001b[0m|0|\u001b[1m\u001b[1m\u001b[34mX\u001b[0m|0|\n",
      "|\u001b[1m\u001b[1m\u001b[31mX\u001b[0m|\u001b[1m\u001b[1m\u001b[31mX\u001b[0m|0|0|\u001b[1m\u001b[1m\u001b[34mX\u001b[0m|\u001b[1m\u001b[1m\u001b[92mX\u001b[0m| => EXIT\n",
      "|\u001b[1m\u001b[1m\u001b[32mX\u001b[0m|\u001b[1m\u001b[1m\u001b[32mX\u001b[0m|\u001b[1m\u001b[1m\u001b[32mX\u001b[0m|0|\u001b[1m\u001b[1m\u001b[34mX\u001b[0m|\u001b[1m\u001b[1m\u001b[92mX\u001b[0m|\n",
      "|\u001b[1m\u001b[1m\u001b[95mX\u001b[0m|0|\u001b[1m\u001b[1m\u001b[36mX\u001b[0m|0|\u001b[1m\u001b[1m\u001b[91mX\u001b[0m|\u001b[1m\u001b[1m\u001b[91mX\u001b[0m|\n",
      "|\u001b[1m\u001b[1m\u001b[95mX\u001b[0m|0|\u001b[1m\u001b[1m\u001b[36mX\u001b[0m|0|\u001b[1m\u001b[1m\u001b[30mX\u001b[0m|\u001b[1m\u001b[1m\u001b[30mX\u001b[0m|\n",
      "\n"
     ]
    }
   ],
   "source": [
    "board = Board(6,2)\n",
    "board.insert_car('yellow',[0,2],3,'h')\n",
    "board.insert_car('purple',[1,0],3,'h')\n",
    "board.insert_car('red',[2,0],2,'h')\n",
    "board.insert_car('green',[3,0],3,'h')\n",
    "board.insert_car('orange',[4,0],2,'v')\n",
    "board.insert_car('cyan',[4,2],2,'v')\n",
    "board.insert_car('blue',[1,4],3,'v')\n",
    "board.insert_car('light-green',[2,5],2,'v')\n",
    "board.insert_car('pink',[4,4],2,'h')\n",
    "board.insert_car('dark',[5,4],2,'h')\n",
    "board.render()"
   ]
  },
  {
   "cell_type": "code",
   "execution_count": 52,
   "metadata": {},
   "outputs": [
    {
     "name": "stdout",
     "output_type": "stream",
     "text": [
      "|0|\u001b[1m\u001b[1m\u001b[92mX\u001b[0m|\u001b[1m\u001b[1m\u001b[95mX\u001b[0m|\u001b[1m\u001b[1m\u001b[95mX\u001b[0m|\u001b[1m\u001b[1m\u001b[36mX\u001b[0m|\u001b[1m\u001b[1m\u001b[91mX\u001b[0m|\n",
      "|0|\u001b[1m\u001b[1m\u001b[92mX\u001b[0m|\u001b[1m\u001b[1m\u001b[34mX\u001b[0m|\u001b[1m\u001b[1m\u001b[32mX\u001b[0m|\u001b[1m\u001b[1m\u001b[36mX\u001b[0m|\u001b[1m\u001b[1m\u001b[91mX\u001b[0m|\n",
      "|\u001b[1m\u001b[1m\u001b[31mX\u001b[0m|\u001b[1m\u001b[1m\u001b[31mX\u001b[0m|\u001b[1m\u001b[1m\u001b[34mX\u001b[0m|\u001b[1m\u001b[1m\u001b[32mX\u001b[0m|\u001b[1m\u001b[1m\u001b[90mX\u001b[0m|\u001b[1m\u001b[1m\u001b[35mX\u001b[0m| => EXIT\n",
      "|\u001b[1m\u001b[1m\u001b[35mX\u001b[0m|0|\u001b[1m\u001b[1m\u001b[90mX\u001b[0m|\u001b[1m\u001b[1m\u001b[33mX\u001b[0m|\u001b[1m\u001b[1m\u001b[90mX\u001b[0m|\u001b[1m\u001b[1m\u001b[35mX\u001b[0m|\n",
      "|\u001b[1m\u001b[1m\u001b[35mX\u001b[0m|0|\u001b[1m\u001b[1m\u001b[90mX\u001b[0m|\u001b[1m\u001b[1m\u001b[33mX\u001b[0m|0|\u001b[1m\u001b[1m\u001b[35mX\u001b[0m|\n",
      "|\u001b[1m\u001b[1m\u001b[35mX\u001b[0m|\u001b[1m\u001b[1m\u001b[34mX\u001b[0m|\u001b[1m\u001b[1m\u001b[34mX\u001b[0m|\u001b[1m\u001b[1m\u001b[34mX\u001b[0m|\u001b[1m\u001b[1m\u001b[30mX\u001b[0m|\u001b[1m\u001b[1m\u001b[30mX\u001b[0m|\n",
      "\n"
     ]
    }
   ],
   "source": [
    "board = Board(6,2)\n",
    "board.insert_car('red',[2,0],2,'h')\n",
    "board.insert_car('purple',[3,0],3,'v')\n",
    "board.insert_car('light-green',[0,1],2,'v')\n",
    "board.insert_car('blue',[5,1],3,'h')\n",
    "board.insert_car('grey',[3,2],2,'v')\n",
    "board.insert_car('another_blue',[1,2],2,'v')\n",
    "board.insert_car('orange',[0,2],2,'h')\n",
    "board.insert_car('green',[1,3],2,'v')\n",
    "board.insert_car('yellow',[3,3],2,'v')\n",
    "board.insert_car('gray',[2,4],2,'v')\n",
    "board.insert_car('cyan',[0,4],2,'v')\n",
    "board.insert_car('dark',[5,4],2,'h')\n",
    "board.insert_car('pink',[0,5],2,'v')\n",
    "board.insert_car('magenta',[2,5],3,'v')\n",
    "board.render()"
   ]
  },
  {
   "cell_type": "code",
   "execution_count": 67,
   "metadata": {},
   "outputs": [
    {
     "name": "stdout",
     "output_type": "stream",
     "text": [
      "<class 'rush_objects.rushhour_objects.Board'>\n"
     ]
    }
   ],
   "source": [
    "game = RushGame(board)"
   ]
  },
  {
   "cell_type": "code",
   "execution_count": 68,
   "metadata": {},
   "outputs": [
    {
     "name": "stdout",
     "output_type": "stream",
     "text": [
      "Checked already 1000 nodes\n",
      "Checked already 2000 nodes\n",
      "Checked already 3000 nodes\n",
      "Checked already 4000 nodes\n",
      "Checked already 5000 nodes\n",
      "Checked already 6000 nodes\n",
      "Checked already 7000 nodes\n",
      "Checked already 8000 nodes\n",
      "CPU times: user 11.4 s, sys: 256 ms, total: 11.6 s\n",
      "Wall time: 11 s\n"
     ]
    }
   ],
   "source": [
    "%%time\n",
    "sol_node = game.solve(astar=False)"
   ]
  },
  {
   "cell_type": "code",
   "execution_count": 57,
   "metadata": {},
   "outputs": [
    {
     "name": "stdout",
     "output_type": "stream",
     "text": [
      "41\n"
     ]
    }
   ],
   "source": [
    "print(len(sol_node.path()))"
   ]
  },
  {
   "cell_type": "code",
   "execution_count": 58,
   "metadata": {},
   "outputs": [
    {
     "name": "stdout",
     "output_type": "stream",
     "text": [
      "svmem(total=16678948864, available=12190781440, percent=26.9, used=3977031680, free=8562036736, active=5478256640, inactive=1957130240, buffers=529285120, cached=3610595328, shared=161402880, slab=397770752)\n"
     ]
    }
   ],
   "source": [
    "print(psutil.virtual_memory())"
   ]
  },
  {
   "cell_type": "code",
   "execution_count": 62,
   "metadata": {},
   "outputs": [
    {
     "name": "stdout",
     "output_type": "stream",
     "text": [
      "|\u001b[1m\u001b[1m\u001b[95mX\u001b[0m|\u001b[1m\u001b[1m\u001b[95mX\u001b[0m|\u001b[1m\u001b[1m\u001b[34mX\u001b[0m|\u001b[1m\u001b[1m\u001b[32mX\u001b[0m|\u001b[1m\u001b[1m\u001b[36mX\u001b[0m|\u001b[1m\u001b[1m\u001b[91mX\u001b[0m|\n",
      "|0|0|\u001b[1m\u001b[1m\u001b[34mX\u001b[0m|\u001b[1m\u001b[1m\u001b[32mX\u001b[0m|\u001b[1m\u001b[1m\u001b[36mX\u001b[0m|\u001b[1m\u001b[1m\u001b[91mX\u001b[0m|\n",
      "|\u001b[1m\u001b[1m\u001b[35mX\u001b[0m|0|0|0|\u001b[1m\u001b[1m\u001b[31mX\u001b[0m|\u001b[1m\u001b[1m\u001b[31mX\u001b[0m| => EXIT\n",
      "|\u001b[1m\u001b[1m\u001b[35mX\u001b[0m|\u001b[1m\u001b[1m\u001b[92mX\u001b[0m|\u001b[1m\u001b[1m\u001b[90mX\u001b[0m|\u001b[1m\u001b[1m\u001b[33mX\u001b[0m|\u001b[1m\u001b[1m\u001b[90mX\u001b[0m|\u001b[1m\u001b[1m\u001b[35mX\u001b[0m|\n",
      "|\u001b[1m\u001b[1m\u001b[35mX\u001b[0m|\u001b[1m\u001b[1m\u001b[92mX\u001b[0m|\u001b[1m\u001b[1m\u001b[90mX\u001b[0m|\u001b[1m\u001b[1m\u001b[33mX\u001b[0m|\u001b[1m\u001b[1m\u001b[90mX\u001b[0m|\u001b[1m\u001b[1m\u001b[35mX\u001b[0m|\n",
      "|\u001b[1m\u001b[1m\u001b[34mX\u001b[0m|\u001b[1m\u001b[1m\u001b[34mX\u001b[0m|\u001b[1m\u001b[1m\u001b[34mX\u001b[0m|\u001b[1m\u001b[1m\u001b[30mX\u001b[0m|\u001b[1m\u001b[1m\u001b[30mX\u001b[0m|\u001b[1m\u001b[1m\u001b[35mX\u001b[0m|\n",
      "\n"
     ]
    },
    {
     "data": {
      "text/plain": [
       "None"
      ]
     },
     "metadata": {},
     "output_type": "display_data"
    }
   ],
   "source": [
    "helper_board = Board(6,2)\n",
    "for state in sol_node.path(): \n",
    "    clear_output(wait=True)\n",
    "    helper_board = Board.from_state(state)\n",
    "    p = helper_board.render(return_string=True)\n",
    "    display(print(p))\n",
    "    time.sleep(.5)\n",
    "    "
   ]
  },
  {
   "cell_type": "code",
   "execution_count": null,
   "metadata": {},
   "outputs": [],
   "source": []
  }
 ],
 "metadata": {
  "kernelspec": {
   "display_name": "Python 3",
   "language": "python",
   "name": "python3"
  },
  "language_info": {
   "codemirror_mode": {
    "name": "ipython",
    "version": 3
   },
   "file_extension": ".py",
   "mimetype": "text/x-python",
   "name": "python",
   "nbconvert_exporter": "python",
   "pygments_lexer": "ipython3",
   "version": "3.7.2"
  }
 },
 "nbformat": 4,
 "nbformat_minor": 2
}
