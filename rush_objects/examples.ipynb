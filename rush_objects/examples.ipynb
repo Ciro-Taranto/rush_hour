{
 "cells": [
  {
   "cell_type": "code",
   "execution_count": null,
   "metadata": {},
   "outputs": [],
   "source": [
    "%load_ext autoreload\n",
    "%autoreload 2"
   ]
  },
  {
   "cell_type": "code",
   "execution_count": null,
   "metadata": {},
   "outputs": [],
   "source": [
    "from rushhour_objects import *"
   ]
  },
  {
   "cell_type": "markdown",
   "metadata": {},
   "source": [
    "## Simple examples using 'Car'"
   ]
  },
  {
   "cell_type": "code",
   "execution_count": null,
   "metadata": {},
   "outputs": [],
   "source": [
    "# Car placed horizontally\n",
    "car = Car(color=\"green\",position=[0,0],length=3,orientation=\"h\")\n",
    "print(\"\\nOriginal       : %s\"%car)\n",
    "\n",
    "# Displacement along the 'free' axis\n",
    "car += 1\n",
    "print(\"Displacement +1: %s\"%car)\n",
    "car -= 1\n",
    "print(\"Displacement -1: %s\"%car)\n",
    "\n",
    "# Car placed vertically\n",
    "car = Car(color=\"green\",position=[0,0],length=3,orientation=\"v\")\n",
    "print(\"\\nOriginal       : %s\"%car)\n",
    "\n",
    "# Displacement along the 'free' axis\n",
    "car += 1\n",
    "print(\"Displacement +1: %s\"%car)\n",
    "car -= 1\n",
    "print(\"Displacement -1: %s\"%car)\n",
    "\n",
    "\n",
    "# Assume that a car is placed in a board of dimension 6x6\n",
    "print(\"\\nChecking the acceptance of moves\")\n",
    "print(\"Original       : %s\"%car)\n",
    "for i in range(6):\n",
    "    if car.can_move(+1,6): \n",
    "        car += 1\n",
    "        print(\"- Move accepted: %s\"%car)\n",
    "    else:\n",
    "        print(\"- Move denied  : %s\"%car)\n",
    "        \n",
    "# Moving back again (lower limit is 0)\n",
    "for i in range(6):\n",
    "    if car.can_move(-1,0): \n",
    "        car -= 1\n",
    "        print(\"- Move accepted: %s\"%car)\n",
    "    else:\n",
    "        print(\"- Move denied  : %s\"%car)"
   ]
  },
  {
   "cell_type": "markdown",
   "metadata": {},
   "source": [
    "### Dealing with the position of the car in terms of slices"
   ]
  },
  {
   "cell_type": "code",
   "execution_count": null,
   "metadata": {},
   "outputs": [],
   "source": [
    "# Create a board\n",
    "bb = np.zeros([6,6])\n",
    "print(\"Original\\n%s\"%bb)\n",
    "\n",
    "# Three cars in different positions \n",
    "car1 = Car(color=\"green\",position=[0,0],length=3,orientation=\"h\")\n",
    "car2 = Car(color=\"green\",position=[1,1],length=3,orientation=\"h\")\n",
    "car3 = Car(color=\"green\",position=[3,5],length=3,orientation=\"v\")\n",
    "bb[car1.npindices] = 1\n",
    "bb[car2.npindices] = 1\n",
    "bb[car3.npindices] = 1\n",
    "print(\"Placement\\n%s\"%bb)\n",
    "\n"
   ]
  },
  {
   "cell_type": "markdown",
   "metadata": {},
   "source": [
    "## Board manipulations"
   ]
  },
  {
   "cell_type": "code",
   "execution_count": null,
   "metadata": {},
   "outputs": [],
   "source": [
    "# Create the board\n",
    "board = Board(5,2)\n",
    "\n",
    "# Insert some cars (more cross validation needed probably) \n",
    "board.insert_car(\"green\",[0,0],3,\"v\")\n",
    "board.insert_car(\"red\",[0,2],3,\"v\")\n",
    "\n",
    "board.insert_car(\"orange\",[4,1],3,\"h\")\n",
    "\n",
    "# Always a good practice to check the following line \n",
    "occupied_positions = 3 + 3 + 3\n",
    "if occupied_positions != board.occupied_places:\n",
    "    raise ValueError(\"Something went wrong in insersion\")\n",
    "print(\"--> Simple printout\")\n",
    "print(board)\n",
    "print(\"\\nRendered view of the board\\n\")\n",
    "board.render()"
   ]
  },
  {
   "cell_type": "markdown",
   "metadata": {},
   "source": [
    "### Let's check first all the connected states from the above configuration"
   ]
  },
  {
   "cell_type": "code",
   "execution_count": null,
   "metadata": {},
   "outputs": [],
   "source": [
    "for index,state in enumerate(board.connected_states):\n",
    "    Board.from_state(state).render(title=\"Connection-%s with hash = %s\"%(index,hash(state)),padding=\"  \") \n",
    "\n",
    "# But (of course) no change in the original \n",
    "board.render(title=\"Parent board-view with hash = %s\"%hash(board.get_state()),padding=\"  \")"
   ]
  },
  {
   "cell_type": "markdown",
   "metadata": {},
   "source": [
    "## Ways to move manually a car that is inserted to the board"
   ]
  },
  {
   "cell_type": "markdown",
   "metadata": {},
   "source": [
    "### 1. Direct access to the specific car and usage of operations += and -=   \n",
    "\n",
    "Attention: In this case you change the position of the car BUT you don't update the view of the board\n",
    "and you do not check for conflicts"
   ]
  },
  {
   "cell_type": "code",
   "execution_count": null,
   "metadata": {},
   "outputs": [],
   "source": [
    "board.cars[\"green\"] += 1 # Car moved one position"
   ]
  },
  {
   "cell_type": "code",
   "execution_count": null,
   "metadata": {},
   "outputs": [],
   "source": [
    "board.render(\"The render reconstructs the board from the cars!!\")"
   ]
  },
  {
   "cell_type": "markdown",
   "metadata": {},
   "source": [
    "but the original view is not updated!!"
   ]
  },
  {
   "cell_type": "code",
   "execution_count": null,
   "metadata": {},
   "outputs": [],
   "source": [
    "board"
   ]
  },
  {
   "cell_type": "markdown",
   "metadata": {},
   "source": [
    "### This is a design pattern for protection. If you want to update the view you have to ask for it!"
   ]
  },
  {
   "cell_type": "code",
   "execution_count": null,
   "metadata": {},
   "outputs": [],
   "source": [
    "board.update_view(); board"
   ]
  },
  {
   "cell_type": "markdown",
   "metadata": {},
   "source": [
    "### 2. Access to the 'car' within the 'board' overloads (recommended)\n",
    "\n",
    "In this case, you will update the position of the car ONLY if no conflicts arise either by occupied   \n",
    "positions from other cars or from the boundaries of the board. If no conflicts occure the view of the   \n",
    "board will be updated automatically."
   ]
  },
  {
   "cell_type": "code",
   "execution_count": null,
   "metadata": {},
   "outputs": [],
   "source": [
    "board.render(title=\"Current-point\")"
   ]
  },
  {
   "cell_type": "code",
   "execution_count": null,
   "metadata": {},
   "outputs": [],
   "source": [
    "board[\"orange\"] -= 1 # Move to the left\n",
    "board.render(title=\"everything fine: moving was accepted\")"
   ]
  },
  {
   "cell_type": "markdown",
   "metadata": {},
   "source": [
    "### trying again to move on the left (must be denied) "
   ]
  },
  {
   "cell_type": "code",
   "execution_count": null,
   "metadata": {},
   "outputs": [],
   "source": [
    "board[\"orange\"] -= 1\n",
    "\n",
    "# Note that we got but to the last step\n",
    "board.render()"
   ]
  },
  {
   "cell_type": "markdown",
   "metadata": {},
   "source": [
    "### let's come back to original position"
   ]
  },
  {
   "cell_type": "code",
   "execution_count": null,
   "metadata": {},
   "outputs": [],
   "source": [
    "board[\"orange\"] += 1\n",
    "\n",
    "# Note that we got but to the last step\n",
    "board.render()"
   ]
  },
  {
   "cell_type": "code",
   "execution_count": null,
   "metadata": {},
   "outputs": [],
   "source": []
  }
 ],
 "metadata": {
  "kernelspec": {
   "display_name": "virtuals",
   "language": "python",
   "name": "virtuals"
  },
  "language_info": {
   "codemirror_mode": {
    "name": "ipython",
    "version": 3
   },
   "file_extension": ".py",
   "mimetype": "text/x-python",
   "name": "python",
   "nbconvert_exporter": "python",
   "pygments_lexer": "ipython3",
   "version": "3.5.3"
  }
 },
 "nbformat": 4,
 "nbformat_minor": 2
}
