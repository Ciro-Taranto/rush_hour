{
 "cells": [
  {
   "cell_type": "code",
   "execution_count": 4,
   "metadata": {},
   "outputs": [],
   "source": [
    "%load_ext autoreload\n",
    "%autoreload 2"
   ]
  },
  {
   "cell_type": "code",
   "execution_count": 5,
   "metadata": {},
   "outputs": [],
   "source": [
    "from rushhour_objects import *"
   ]
  },
  {
   "cell_type": "markdown",
   "metadata": {},
   "source": [
    "## Simple examples using 'Car'"
   ]
  },
  {
   "cell_type": "code",
   "execution_count": 6,
   "metadata": {},
   "outputs": [
    {
     "name": "stdout",
     "output_type": "stream",
     "text": [
      "\n",
      "Original       : Instance of Car(color=green,position=(0, 0),length=3,orientation=h)\n",
      "Displacement +1: Instance of Car(color=green,position=(0, 1),length=3,orientation=h)\n",
      "Displacement -1: Instance of Car(color=green,position=(0, 0),length=3,orientation=h)\n",
      "\n",
      "Original       : Instance of Car(color=green,position=(0, 0),length=3,orientation=v)\n",
      "Displacement +1: Instance of Car(color=green,position=(1, 0),length=3,orientation=v)\n",
      "Displacement -1: Instance of Car(color=green,position=(0, 0),length=3,orientation=v)\n",
      "\n",
      "Checking the acceptance of moves\n",
      "Original       : Instance of Car(color=green,position=(0, 0),length=3,orientation=v)\n",
      "- Move accepted: Instance of Car(color=green,position=(1, 0),length=3,orientation=v)\n",
      "- Move accepted: Instance of Car(color=green,position=(2, 0),length=3,orientation=v)\n",
      "- Move accepted: Instance of Car(color=green,position=(3, 0),length=3,orientation=v)\n",
      "- Move denied  : Instance of Car(color=green,position=(3, 0),length=3,orientation=v)\n",
      "- Move denied  : Instance of Car(color=green,position=(3, 0),length=3,orientation=v)\n",
      "- Move denied  : Instance of Car(color=green,position=(3, 0),length=3,orientation=v)\n",
      "- Move accepted: Instance of Car(color=green,position=(2, 0),length=3,orientation=v)\n",
      "- Move accepted: Instance of Car(color=green,position=(1, 0),length=3,orientation=v)\n",
      "- Move accepted: Instance of Car(color=green,position=(0, 0),length=3,orientation=v)\n",
      "- Move denied  : Instance of Car(color=green,position=(0, 0),length=3,orientation=v)\n",
      "- Move denied  : Instance of Car(color=green,position=(0, 0),length=3,orientation=v)\n",
      "- Move denied  : Instance of Car(color=green,position=(0, 0),length=3,orientation=v)\n"
     ]
    }
   ],
   "source": [
    "# Car placed horizontally\n",
    "car = Car(color=\"green\",position=[0,0],length=3,orientation=\"h\")\n",
    "print(\"\\nOriginal       : %s\"%car)\n",
    "\n",
    "# Displacement along the 'free' axis\n",
    "car += 1\n",
    "print(\"Displacement +1: %s\"%car)\n",
    "car -= 1\n",
    "print(\"Displacement -1: %s\"%car)\n",
    "\n",
    "# Car placed vertically\n",
    "car = Car(color=\"green\",position=[0,0],length=3,orientation=\"v\")\n",
    "print(\"\\nOriginal       : %s\"%car)\n",
    "\n",
    "# Displacement along the 'free' axis\n",
    "car += 1\n",
    "print(\"Displacement +1: %s\"%car)\n",
    "car -= 1\n",
    "print(\"Displacement -1: %s\"%car)\n",
    "\n",
    "\n",
    "# Assume that a car is placed in a board of dimension 6x6\n",
    "print(\"\\nChecking the acceptance of moves\")\n",
    "print(\"Original       : %s\"%car)\n",
    "for i in range(6):\n",
    "    if car.can_move(+1,6): \n",
    "        car += 1\n",
    "        print(\"- Move accepted: %s\"%car)\n",
    "    else:\n",
    "        print(\"- Move denied  : %s\"%car)\n",
    "        \n",
    "# Moving back again (lower limit is 0)\n",
    "for i in range(6):\n",
    "    if car.can_move(-1,0): \n",
    "        car -= 1\n",
    "        print(\"- Move accepted: %s\"%car)\n",
    "    else:\n",
    "        print(\"- Move denied  : %s\"%car)"
   ]
  },
  {
   "cell_type": "markdown",
   "metadata": {},
   "source": [
    "### Dealing with the position of the car in terms of slices"
   ]
  },
  {
   "cell_type": "code",
   "execution_count": null,
   "metadata": {},
   "outputs": [],
   "source": [
    "# Create a board\n",
    "bb = np.zeros([6,6])\n",
    "print(\"Original\\n%s\"%bb)\n",
    "\n",
    "# Three cars in different positions \n",
    "car1 = Car(color=\"green\",position=[0,0],length=3,orientation=\"h\")\n",
    "car2 = Car(color=\"green\",position=[1,1],length=3,orientation=\"h\")\n",
    "car3 = Car(color=\"green\",position=[3,5],length=3,orientation=\"v\")\n",
    "bb[car1.npindices] = 1\n",
    "bb[car2.npindices] = 1\n",
    "bb[car3.npindices] = 1\n",
    "print(\"Placement\\n%s\"%bb)\n",
    "\n"
   ]
  },
  {
   "cell_type": "markdown",
   "metadata": {},
   "source": [
    "## Board manipulations"
   ]
  },
  {
   "cell_type": "code",
   "execution_count": null,
   "metadata": {},
   "outputs": [],
   "source": [
    "# Create the board\n",
    "board = Board(5,2)\n",
    "\n",
    "# Insert some cars (more cross validation needed probably) \n",
    "board.insert_car(\"green\",[0,0],3,\"v\")\n",
    "board.insert_car(\"red\",[0,2],3,\"v\")\n",
    "\n",
    "board.insert_car(\"orange\",[4,1],3,\"h\")\n",
    "\n",
    "# Always a good practice to check the following line \n",
    "occupied_positions = 3 + 3 + 3\n",
    "if occupied_positions != board.occupied_places:\n",
    "    raise ValueError(\"Something went wrong in insersion\")\n",
    "print(\"--> Simple printout\")\n",
    "print(board)\n",
    "print(\"\\nRendered view of the board\\n\")\n",
    "board.render()"
   ]
  },
  {
   "cell_type": "markdown",
   "metadata": {},
   "source": [
    "### Let's check first all the connected states from the above configuration"
   ]
  },
  {
   "cell_type": "code",
   "execution_count": null,
   "metadata": {},
   "outputs": [],
   "source": [
    "for index,state in enumerate(board.connected_states):\n",
    "    Board.from_state(state).render(title=\"Connection-%s with hash = %s\"%(index,hash(state)),padding=\"  \") \n",
    "\n",
    "# But (of course) no change in the original \n",
    "board.render(title=\"Parent board-view with hash = %s\"%hash(board.get_state()),padding=\"  \")"
   ]
  },
  {
   "cell_type": "markdown",
   "metadata": {},
   "source": [
    "## Ways to move manually a car that is inserted to the board"
   ]
  },
  {
   "cell_type": "markdown",
   "metadata": {},
   "source": [
    "### 1. Direct access to the specific car and usage of operations += and -=   \n",
    "\n",
    "Attention: In this case you change the position of the car BUT you don't update the view of the board\n",
    "and you do not check for conflicts"
   ]
  },
  {
   "cell_type": "code",
   "execution_count": null,
   "metadata": {},
   "outputs": [],
   "source": [
    "board.cars[\"green\"] += 1 # Car moved one position"
   ]
  },
  {
   "cell_type": "code",
   "execution_count": null,
   "metadata": {},
   "outputs": [],
   "source": [
    "board.render(\"The render reconstructs the board from the cars!!\")"
   ]
  },
  {
   "cell_type": "markdown",
   "metadata": {},
   "source": [
    "but the original view is not updated!!"
   ]
  },
  {
   "cell_type": "code",
   "execution_count": null,
   "metadata": {},
   "outputs": [],
   "source": [
    "board"
   ]
  },
  {
   "cell_type": "markdown",
   "metadata": {},
   "source": [
    "### This is a design pattern for protection. If you want to update the view you have to ask for it!"
   ]
  },
  {
   "cell_type": "code",
   "execution_count": null,
   "metadata": {},
   "outputs": [],
   "source": [
    "board.update_view(); board"
   ]
  },
  {
   "cell_type": "markdown",
   "metadata": {},
   "source": [
    "### 2. Access to the 'car' within the 'board' overloads (recommended)\n",
    "\n",
    "In this case, you will update the position of the car ONLY if no conflicts arise either by occupied   \n",
    "positions from other cars or from the boundaries of the board. If no conflicts occure the view of the   \n",
    "board will be updated automatically."
   ]
  },
  {
   "cell_type": "code",
   "execution_count": null,
   "metadata": {},
   "outputs": [],
   "source": [
    "board.render(title=\"Current-point\")"
   ]
  },
  {
   "cell_type": "code",
   "execution_count": null,
   "metadata": {},
   "outputs": [],
   "source": [
    "board[\"orange\"] -= 1 # Move to the left\n",
    "board.render(title=\"everything fine: moving was accepted\")"
   ]
  },
  {
   "cell_type": "markdown",
   "metadata": {},
   "source": [
    "### trying again to move on the left (must be denied) "
   ]
  },
  {
   "cell_type": "code",
   "execution_count": null,
   "metadata": {},
   "outputs": [],
   "source": [
    "board[\"orange\"] -= 1\n",
    "\n",
    "# Note that we got but to the last step\n",
    "board.render()"
   ]
  },
  {
   "cell_type": "markdown",
   "metadata": {},
   "source": [
    "### let's come back to original position"
   ]
  },
  {
   "cell_type": "code",
   "execution_count": null,
   "metadata": {},
   "outputs": [],
   "source": [
    "board[\"orange\"] += 1\n",
    "\n",
    "# Note that we got but to the last step\n",
    "board.render()"
   ]
  },
  {
   "cell_type": "markdown",
   "metadata": {},
   "source": [
    "### Custom solution - For checking against the old implementation"
   ]
  },
  {
   "cell_type": "code",
   "execution_count": 1,
   "metadata": {},
   "outputs": [],
   "source": [
    "from collections import deque"
   ]
  },
  {
   "cell_type": "code",
   "execution_count": 2,
   "metadata": {},
   "outputs": [],
   "source": [
    "class RushHour(object):\n",
    "    \"\"\"\n",
    "    Class to play the game. \n",
    "    \n",
    "    Arguments:\n",
    "    ----------\n",
    "    - initial: Board or tuple(state)\n",
    "    \n",
    "    Keyword arguments:\n",
    "    ------------------\n",
    "    - target: string, the target car (default is 'red') \n",
    "    \n",
    "    \"\"\"\n",
    "    def __init__(self,initial,**kwargs):\n",
    "        if isinstance(initial,Board):\n",
    "            self.initial = Board.from_state(initial.get_state())\n",
    "        elif isinstance(initial,tuple):\n",
    "            self.initial = Board.from_state(initial)\n",
    "        else:\n",
    "            raise ValueError(\"RushHour initialized expects 'Board'/'tuple'\") \n",
    "        \n",
    "        # Cross validate the existence of the 'car' to move in the exit\n",
    "        # and the corresponding 'target' position to be reached\n",
    "        self.target_car = kwargs.get(\"target\",\"red\") \n",
    "        if self.target_car not in self.initial.cars:\n",
    "        #if not self.initial.cars.has_key(self.target_car):\n",
    "            raise ValueError(\"Target 'car' not found in the board\") \n",
    "        else:\n",
    "            if self.initial[self.target_car].position[0]!=self.initial.exitrow:\n",
    "                raise ValueError(\"Target 'car' not placed in the 'exitrow'\")\n",
    "            else:\n",
    "                targetcol = self.initial.view.shape[0]-self.initial[self.target_car].length \n",
    "                self.target = (self.initial.exitrow,targetcol)\n",
    "        \n",
    "            \n",
    "    def check_target(self,node):\n",
    "        \"\"\"Routine to check if the target is reached\"\"\"\n",
    "        return node.cars[self.target_car].position == self.target \n",
    "    \n",
    "    def solve(self,max_iterations,use_last=False,printouts=100):\n",
    "        \"\"\"Implementation of the breadth-first-graph-search\"\"\"\n",
    "        # Possibility to continue a calculation \n",
    "        if use_last and hasattr(self,\"last\"):\n",
    "            print(\"Continuing the solver from the last parent\")\n",
    "            frontier = deque([Board.from_state(self.last.get_state())])\n",
    "        else:\n",
    "            if use_last: print(\"No previous solution. Falling back to initial\")\n",
    "            frontier = deque([Board.from_state(self.initial.get_state())]) \n",
    "        \n",
    "        # Early check for available solution \n",
    "        if self.check_target(frontier[0]):\n",
    "            print(\"Solution is already available\")\n",
    "            self.last = frontier[0]\n",
    "            return True\n",
    "            \n",
    "        # The actual implementation (recursive method) \n",
    "        explored = set() ;loops    = 0\n",
    "        while frontier:\n",
    "            parent = frontier.popleft() \n",
    "            explored.add(parent.get_state())\n",
    "            \n",
    "            for child in parent.connected_states:\n",
    "                node = Board.from_state(child)\n",
    "                if node not in frontier and child not in explored:\n",
    "                    if self.check_target(node):\n",
    "                        self.last = node\n",
    "                        print(\"Solution reached in %s\"%loops)\n",
    "                        self.last.render(\"Problem solved\")\n",
    "                        return True\n",
    "                    frontier.append(node)\n",
    "            \n",
    "            loops += 1\n",
    "            if loops%printouts == 0:\n",
    "                for index,parent in enumerate(frontier):\n",
    "                    parent.render(\"Frontier-%s board at %s loops\"%(index,loops))\n",
    "            if loops == max_iterations: break\n",
    "        \n",
    "        print(\"Unable to find solution in %s loops\"%max_iterations)\n",
    "        self.last = parent\n",
    "        return False "
   ]
  },
  {
   "cell_type": "code",
   "execution_count": 3,
   "metadata": {},
   "outputs": [
    {
     "ename": "NameError",
     "evalue": "name 'Board' is not defined",
     "output_type": "error",
     "traceback": [
      "\u001b[0;31m---------------------------------------------------------------------------\u001b[0m",
      "\u001b[0;31mNameError\u001b[0m                                 Traceback (most recent call last)",
      "\u001b[0;32m<ipython-input-3-fd98e516a487>\u001b[0m in \u001b[0;36m<module>\u001b[0;34m\u001b[0m\n\u001b[1;32m      1\u001b[0m \u001b[0;31m# Create the board\u001b[0m\u001b[0;34m\u001b[0m\u001b[0;34m\u001b[0m\u001b[0m\n\u001b[0;32m----> 2\u001b[0;31m \u001b[0mboard\u001b[0m \u001b[0;34m=\u001b[0m \u001b[0mBoard\u001b[0m\u001b[0;34m(\u001b[0m\u001b[0;36m5\u001b[0m\u001b[0;34m,\u001b[0m\u001b[0;36m2\u001b[0m\u001b[0;34m)\u001b[0m\u001b[0;34m\u001b[0m\u001b[0m\n\u001b[0m\u001b[1;32m      3\u001b[0m \u001b[0;34m\u001b[0m\u001b[0m\n\u001b[1;32m      4\u001b[0m \u001b[0;31m# Insert some cars (more cross validation needed probably)\u001b[0m\u001b[0;34m\u001b[0m\u001b[0;34m\u001b[0m\u001b[0m\n\u001b[1;32m      5\u001b[0m \u001b[0mboard\u001b[0m\u001b[0;34m.\u001b[0m\u001b[0minsert_car\u001b[0m\u001b[0;34m(\u001b[0m\u001b[0;34m\"green\"\u001b[0m\u001b[0;34m,\u001b[0m\u001b[0;34m[\u001b[0m\u001b[0;36m1\u001b[0m\u001b[0;34m,\u001b[0m\u001b[0;36m2\u001b[0m\u001b[0;34m]\u001b[0m\u001b[0;34m,\u001b[0m\u001b[0;36m2\u001b[0m\u001b[0;34m,\u001b[0m\u001b[0;34m\"v\"\u001b[0m\u001b[0;34m)\u001b[0m\u001b[0;34m\u001b[0m\u001b[0m\n",
      "\u001b[0;31mNameError\u001b[0m: name 'Board' is not defined"
     ]
    }
   ],
   "source": [
    "# Create the board\n",
    "board = Board(5,2)\n",
    "\n",
    "# Insert some cars (more cross validation needed probably) \n",
    "board.insert_car(\"green\",[1,2],2,\"v\")\n",
    "board.insert_car(\"red\",[2,0],2,\"h\")\n",
    "board.insert_car(\"orange\",[0,1],3,\"h\")\n",
    "board.insert_car(\"blue\",[3,2],2,\"h\")\n",
    "\n",
    "board.render()"
   ]
  },
  {
   "cell_type": "code",
   "execution_count": null,
   "metadata": {},
   "outputs": [],
   "source": [
    "Game = RushHour(board)\n",
    "Game.solve(max_iterations=300,use_last=False,printouts=30)"
   ]
  },
  {
   "cell_type": "code",
   "execution_count": null,
   "metadata": {},
   "outputs": [],
   "source": [
    "Game.initial.render(\"Initial board\")\n",
    "Game.last.render(\"Last board\")"
   ]
  },
  {
   "cell_type": "code",
   "execution_count": null,
   "metadata": {},
   "outputs": [],
   "source": []
  }
 ],
 "metadata": {
  "kernelspec": {
   "display_name": "virtuals",
   "language": "python",
   "name": "virtuals"
  },
  "language_info": {
   "codemirror_mode": {
    "name": "ipython",
    "version": 3
   },
   "file_extension": ".py",
   "mimetype": "text/x-python",
   "name": "python",
   "nbconvert_exporter": "python",
   "pygments_lexer": "ipython3",
   "version": "3.5.3"
  }
 },
 "nbformat": 4,
 "nbformat_minor": 2
}
