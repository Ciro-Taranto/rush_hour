{
 "cells": [
  {
   "cell_type": "code",
   "execution_count": 338,
   "metadata": {},
   "outputs": [
    {
     "name": "stdout",
     "output_type": "stream",
     "text": [
      "The autoreload extension is already loaded. To reload it, use:\n",
      "  %reload_ext autoreload\n"
     ]
    }
   ],
   "source": [
    "%load_ext autoreload\n",
    "%autoreload 2"
   ]
  },
  {
   "cell_type": "code",
   "execution_count": 339,
   "metadata": {},
   "outputs": [],
   "source": [
    "from rushhour_objects import *"
   ]
  },
  {
   "cell_type": "code",
   "execution_count": 340,
   "metadata": {},
   "outputs": [],
   "source": [
    "from copy import deepcopy"
   ]
  },
  {
   "cell_type": "markdown",
   "metadata": {},
   "source": [
    "## Simple examples using 'Car'"
   ]
  },
  {
   "cell_type": "code",
   "execution_count": 341,
   "metadata": {},
   "outputs": [
    {
     "name": "stdout",
     "output_type": "stream",
     "text": [
      "\n",
      "Original       : Instance of Car(color=green,position=(0, 0),length=3,orientation=h)\n",
      "Displacement +1: Instance of Car(color=green,position=(0, 1),length=3,orientation=h)\n",
      "Displacement -1: Instance of Car(color=green,position=(0, 0),length=3,orientation=h)\n",
      "\n",
      "Original       : Instance of Car(color=green,position=(0, 0),length=3,orientation=v)\n",
      "Displacement +1: Instance of Car(color=green,position=(1, 0),length=3,orientation=v)\n",
      "Displacement -1: Instance of Car(color=green,position=(0, 0),length=3,orientation=v)\n",
      "\n",
      "Checking the acceptance of moves\n",
      "Original       : Instance of Car(color=green,position=(0, 0),length=3,orientation=v)\n",
      "- Move accepted: Instance of Car(color=green,position=(1, 0),length=3,orientation=v)\n",
      "- Move accepted: Instance of Car(color=green,position=(2, 0),length=3,orientation=v)\n",
      "- Move accepted: Instance of Car(color=green,position=(3, 0),length=3,orientation=v)\n",
      "- Move denied  : Instance of Car(color=green,position=(3, 0),length=3,orientation=v)\n",
      "- Move denied  : Instance of Car(color=green,position=(3, 0),length=3,orientation=v)\n",
      "- Move denied  : Instance of Car(color=green,position=(3, 0),length=3,orientation=v)\n",
      "- Move accepted: Instance of Car(color=green,position=(2, 0),length=3,orientation=v)\n",
      "- Move accepted: Instance of Car(color=green,position=(1, 0),length=3,orientation=v)\n",
      "- Move accepted: Instance of Car(color=green,position=(0, 0),length=3,orientation=v)\n",
      "- Move denied  : Instance of Car(color=green,position=(0, 0),length=3,orientation=v)\n",
      "- Move denied  : Instance of Car(color=green,position=(0, 0),length=3,orientation=v)\n",
      "- Move denied  : Instance of Car(color=green,position=(0, 0),length=3,orientation=v)\n"
     ]
    }
   ],
   "source": [
    "# Car placed horizontally\n",
    "car = Car(color=\"green\",position=[0,0],length=3,orientation=\"h\")\n",
    "print(\"\\nOriginal       : %s\"%car)\n",
    "\n",
    "# Displacement along the 'free' axis\n",
    "car += 1\n",
    "print(\"Displacement +1: %s\"%car)\n",
    "car -= 1\n",
    "print(\"Displacement -1: %s\"%car)\n",
    "\n",
    "# Car placed vertically\n",
    "car = Car(color=\"green\",position=[0,0],length=3,orientation=\"v\")\n",
    "print(\"\\nOriginal       : %s\"%car)\n",
    "\n",
    "# Displacement along the 'free' axis\n",
    "car += 1\n",
    "print(\"Displacement +1: %s\"%car)\n",
    "car -= 1\n",
    "print(\"Displacement -1: %s\"%car)\n",
    "\n",
    "\n",
    "# Assume that a car is placed in a board of dimension 6x6\n",
    "print(\"\\nChecking the acceptance of moves\")\n",
    "print(\"Original       : %s\"%car)\n",
    "for i in range(6):\n",
    "    if car.can_move(+1,6): \n",
    "        car += 1\n",
    "        print(\"- Move accepted: %s\"%car)\n",
    "    else:\n",
    "        print(\"- Move denied  : %s\"%car)\n",
    "        \n",
    "# Moving back again (lower limit is 0)\n",
    "for i in range(6):\n",
    "    if car.can_move(-1,0): \n",
    "        car -= 1\n",
    "        print(\"- Move accepted: %s\"%car)\n",
    "    else:\n",
    "        print(\"- Move denied  : %s\"%car)"
   ]
  },
  {
   "cell_type": "markdown",
   "metadata": {},
   "source": [
    "### Dealing with the position of the car in terms of slices"
   ]
  },
  {
   "cell_type": "code",
   "execution_count": 344,
   "metadata": {},
   "outputs": [
    {
     "name": "stdout",
     "output_type": "stream",
     "text": [
      "Original\n",
      "[[0. 0. 0. 0. 0. 0.]\n",
      " [0. 0. 0. 0. 0. 0.]\n",
      " [0. 0. 0. 0. 0. 0.]\n",
      " [0. 0. 0. 0. 0. 0.]\n",
      " [0. 0. 0. 0. 0. 0.]\n",
      " [0. 0. 0. 0. 0. 0.]]\n",
      "Placement\n",
      "[[1. 1. 1. 0. 0. 0.]\n",
      " [0. 1. 1. 1. 0. 0.]\n",
      " [0. 0. 0. 0. 0. 0.]\n",
      " [0. 0. 0. 0. 0. 1.]\n",
      " [0. 0. 0. 0. 0. 1.]\n",
      " [0. 0. 0. 0. 0. 1.]]\n"
     ]
    }
   ],
   "source": [
    "# Create a board\n",
    "bb = np.zeros([6,6])\n",
    "print(\"Original\\n%s\"%bb)\n",
    "\n",
    "# Three cars in different positions \n",
    "car1 = Car(color=\"green\",position=[0,0],length=3,orientation=\"h\")\n",
    "car2 = Car(color=\"green\",position=[1,1],length=3,orientation=\"h\")\n",
    "car3 = Car(color=\"green\",position=[3,5],length=3,orientation=\"v\")\n",
    "bb[car1.npindices] = 1\n",
    "bb[car2.npindices] = 1\n",
    "bb[car3.npindices] = 1\n",
    "print(\"Placement\\n%s\"%bb)\n",
    "\n"
   ]
  },
  {
   "cell_type": "markdown",
   "metadata": {},
   "source": [
    "## Board manipulations"
   ]
  },
  {
   "cell_type": "code",
   "execution_count": 323,
   "metadata": {},
   "outputs": [
    {
     "data": {
      "text/plain": [
       "Board with view\n",
       "[[1 1 0 0 0]\n",
       " [1 1 0 0 0]\n",
       " [1 1 0 0 0]\n",
       " [0 0 1 1 1]\n",
       " [0 0 0 0 0]]\n",
       "containing 3 cars"
      ]
     },
     "execution_count": 323,
     "metadata": {},
     "output_type": "execute_result"
    }
   ],
   "source": [
    "# Create the board\n",
    "board = Board(5,2)\n",
    "\n",
    "# Insert some cars (more cross validation needed probably) \n",
    "board.insert_car(\"green\",[0,0],3,\"v\")\n",
    "board.insert_car(\"red\",[0,1],3,\"v\")\n",
    "board.insert_car(\"magenta\",[3,2],3,\"h\")\n",
    "\n",
    "# Always a good practice to check the following line \n",
    "occupied_positions = 3 + 3 + 3\n",
    "if occupied_positions != board.empty_places:\n",
    "    raise ValueError(\"Something went wrong in insersion\")\n",
    "board"
   ]
  },
  {
   "cell_type": "markdown",
   "metadata": {},
   "source": [
    "### Current state (and check if it is hashable)"
   ]
  },
  {
   "cell_type": "code",
   "execution_count": 327,
   "metadata": {},
   "outputs": [
    {
     "name": "stdout",
     "output_type": "stream",
     "text": [
      "Hash of state: 417673259425745701\n"
     ]
    }
   ],
   "source": [
    "state = board.get_state()\n",
    "try:\n",
    "    print(\"Hash of state: %s\"%hash(state))\n",
    "except TypeError:\n",
    "    print(\"State is not hashable\")"
   ]
  },
  {
   "cell_type": "markdown",
   "metadata": {},
   "source": [
    "### Build a new board from a given state"
   ]
  },
  {
   "cell_type": "code",
   "execution_count": 329,
   "metadata": {},
   "outputs": [
    {
     "data": {
      "text/plain": [
       "Board with view\n",
       "[[1 1 0 0 0]\n",
       " [1 1 0 0 0]\n",
       " [1 1 0 0 0]\n",
       " [0 0 1 1 1]\n",
       " [0 0 0 0 0]]\n",
       "containing 3 cars"
      ]
     },
     "execution_count": 329,
     "metadata": {},
     "output_type": "execute_result"
    }
   ],
   "source": [
    "board2 = Board.from_state(state)\n",
    "board2"
   ]
  },
  {
   "cell_type": "markdown",
   "metadata": {},
   "source": [
    "### Get all connected states with the currect Board"
   ]
  },
  {
   "cell_type": "code",
   "execution_count": 335,
   "metadata": {},
   "outputs": [
    {
     "name": "stdout",
     "output_type": "stream",
     "text": [
      "Board with view\n",
      "[[0 1 0 0 0]\n",
      " [1 1 0 0 0]\n",
      " [1 1 0 0 0]\n",
      " [1 0 1 1 1]\n",
      " [0 0 0 0 0]]\n",
      "containing 3 cars \n",
      "\n",
      "Board with view\n",
      "[[1 0 0 0 0]\n",
      " [1 1 0 0 0]\n",
      " [1 1 0 0 0]\n",
      " [0 1 1 1 1]\n",
      " [0 0 0 0 0]]\n",
      "containing 3 cars \n",
      "\n",
      "Board with view\n",
      "[[1 1 0 0 0]\n",
      " [1 1 0 0 0]\n",
      " [1 1 0 0 0]\n",
      " [0 1 1 1 0]\n",
      " [0 0 0 0 0]]\n",
      "containing 3 cars \n",
      "\n"
     ]
    }
   ],
   "source": [
    "for item in board.connected_states:\n",
    "    # Since item is a state I will create new boards\n",
    "    print(Board.from_state(item),\"\\n\")"
   ]
  },
  {
   "cell_type": "code",
   "execution_count": 336,
   "metadata": {},
   "outputs": [
    {
     "data": {
      "text/plain": [
       "Board with view\n",
       "[[1 1 0 0 0]\n",
       " [1 1 0 0 0]\n",
       " [1 1 0 0 0]\n",
       " [0 0 1 1 1]\n",
       " [0 0 0 0 0]]\n",
       "containing 3 cars"
      ]
     },
     "execution_count": 336,
     "metadata": {},
     "output_type": "execute_result"
    }
   ],
   "source": [
    "# But I do not change the original board at all!!\n",
    "board"
   ]
  },
  {
   "cell_type": "markdown",
   "metadata": {},
   "source": [
    "### Explicit displacement and update of the view (avoid)"
   ]
  },
  {
   "cell_type": "code",
   "execution_count": 337,
   "metadata": {},
   "outputs": [
    {
     "data": {
      "text/plain": [
       "Board with view\n",
       "[[0 1 0 0 0]\n",
       " [1 1 0 0 0]\n",
       " [1 1 0 0 0]\n",
       " [1 0 1 1 1]\n",
       " [0 0 0 0 0]]\n",
       "containing 3 cars"
      ]
     },
     "execution_count": 337,
     "metadata": {},
     "output_type": "execute_result"
    }
   ],
   "source": [
    "board[\"green\"] = 1   # --> means +1 displacement in the green car\n",
    "board"
   ]
  }
 ],
 "metadata": {
  "kernelspec": {
   "display_name": "virtuals",
   "language": "python",
   "name": "virtuals"
  },
  "language_info": {
   "codemirror_mode": {
    "name": "ipython",
    "version": 3
   },
   "file_extension": ".py",
   "mimetype": "text/x-python",
   "name": "python",
   "nbconvert_exporter": "python",
   "pygments_lexer": "ipython3",
   "version": "3.5.3"
  }
 },
 "nbformat": 4,
 "nbformat_minor": 2
}
