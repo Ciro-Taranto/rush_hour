{
 "cells": [
  {
   "cell_type": "code",
   "execution_count": 25,
   "metadata": {},
   "outputs": [],
   "source": [
    "import pylab as plt\n",
    "import numpy as np \n",
    "from collections import OrderedDict\n",
    "from colorama import Fore, Style\n",
    "import time\n",
    "import sys\n",
    "from IPython.display import display, clear_output\n",
    "%matplotlib inline"
   ]
  },
  {
   "cell_type": "code",
   "execution_count": 27,
   "metadata": {},
   "outputs": [
    {
     "name": "stdout",
     "output_type": "stream",
     "text": [
      "The autoreload extension is already loaded. To reload it, use:\n",
      "  %reload_ext autoreload\n"
     ]
    }
   ],
   "source": [
    "%load_ext autoreload \n",
    "%autoreload 2\n",
    "from rush_objects.cars import Car, Board\n",
    "from rush_objects.rush_solver import RushGame\n"
   ]
  },
  {
   "cell_type": "code",
   "execution_count": 5,
   "metadata": {},
   "outputs": [],
   "source": [
    "board = Board(6,2)"
   ]
  },
  {
   "cell_type": "code",
   "execution_count": 6,
   "metadata": {},
   "outputs": [],
   "source": [
    "board.place_car('yellow',3,'h',[0,2])\n",
    "board.place_car('purple',3,'h',[1,0])\n",
    "board.place_car('red',2,'h',[2,0])\n",
    "board.place_car('green',3,'h',[3,0])\n",
    "board.place_car('orange',2,'v',[4,0])\n",
    "board.place_car('cyan',2,'v',[4,2])\n",
    "board.place_car('blue',3,'v',[1,4])\n",
    "board.place_car('light-green',2,'v',[2,5])\n",
    "board.place_car('pink',2,'h',[4,4])\n",
    "board.place_car('dark',2,'h',[5,4])"
   ]
  },
  {
   "cell_type": "code",
   "execution_count": 28,
   "metadata": {},
   "outputs": [],
   "source": [
    "board = Board(6,2)"
   ]
  },
  {
   "cell_type": "code",
   "execution_count": 29,
   "metadata": {},
   "outputs": [
    {
     "name": "stdout",
     "output_type": "stream",
     "text": [
      "|0|\u001b[1m\u001b[1m\u001b[92mX\u001b[0m|\u001b[1m\u001b[1m\u001b[95mX\u001b[0m|\u001b[1m\u001b[1m\u001b[95mX\u001b[0m|\u001b[1m\u001b[1m\u001b[36mX\u001b[0m|\u001b[1m\u001b[1m\u001b[91mX\u001b[0m|\n",
      "|0|\u001b[1m\u001b[1m\u001b[92mX\u001b[0m|\u001b[1m\u001b[1m\u001b[34mX\u001b[0m|\u001b[1m\u001b[1m\u001b[32mX\u001b[0m|\u001b[1m\u001b[1m\u001b[36mX\u001b[0m|\u001b[1m\u001b[1m\u001b[91mX\u001b[0m|\n",
      "|\u001b[1m\u001b[1m\u001b[31mX\u001b[0m|\u001b[1m\u001b[1m\u001b[31mX\u001b[0m|\u001b[1m\u001b[1m\u001b[34mX\u001b[0m|\u001b[1m\u001b[1m\u001b[32mX\u001b[0m|\u001b[1m\u001b[1m\u001b[90mX\u001b[0m|\u001b[1m\u001b[1m\u001b[35mX\u001b[0m|=>\n",
      "|\u001b[1m\u001b[1m\u001b[35mX\u001b[0m|0|\u001b[1m\u001b[1m\u001b[90mX\u001b[0m|\u001b[1m\u001b[1m\u001b[33mX\u001b[0m|\u001b[1m\u001b[1m\u001b[90mX\u001b[0m|\u001b[1m\u001b[1m\u001b[35mX\u001b[0m|\n",
      "|\u001b[1m\u001b[1m\u001b[35mX\u001b[0m|0|\u001b[1m\u001b[1m\u001b[90mX\u001b[0m|\u001b[1m\u001b[1m\u001b[33mX\u001b[0m|0|\u001b[1m\u001b[1m\u001b[35mX\u001b[0m|\n",
      "|\u001b[1m\u001b[1m\u001b[35mX\u001b[0m|\u001b[1m\u001b[1m\u001b[34mX\u001b[0m|\u001b[1m\u001b[1m\u001b[34mX\u001b[0m|\u001b[1m\u001b[1m\u001b[34mX\u001b[0m|\u001b[1m\u001b[1m\u001b[30mX\u001b[0m|\u001b[1m\u001b[1m\u001b[30mX\u001b[0m|\n",
      "\n"
     ]
    },
    {
     "data": {
      "text/plain": [
       "True"
      ]
     },
     "execution_count": 29,
     "metadata": {},
     "output_type": "execute_result"
    }
   ],
   "source": [
    "board.reset_board()\n",
    "board.place_car('red',2,'h',[2,0])\n",
    "board.place_car('purple',3,'v',[3,0])\n",
    "board.place_car('light-green',2,'v',[0,1])\n",
    "board.place_car('blue',3,'h',[5,1])\n",
    "board.place_car('grey',2,'v',[3,2])\n",
    "board.place_car('another_blue',2,'v',[1,2])\n",
    "board.place_car('orange',2,'h',[0,2])\n",
    "board.place_car('green',2,'v',[1,3])\n",
    "board.place_car('yellow',2,'v',[3,3])\n",
    "board.place_car('gray',2,'v',[2,4])\n",
    "board.place_car('cyan',2,'v',[0,4])\n",
    "board.place_car('dark',2,'h',[5,4])\n",
    "board.place_car('pink',2,'v',[0,5])\n",
    "board.place_car('magenta',3,'v',[2,5])\n",
    "board.render()"
   ]
  },
  {
   "cell_type": "code",
   "execution_count": 32,
   "metadata": {},
   "outputs": [
    {
     "name": "stdout",
     "output_type": "stream",
     "text": [
      "<class 'rush_objects.cars.Board'>\n"
     ]
    }
   ],
   "source": [
    "game = RushGame(board)"
   ]
  },
  {
   "cell_type": "code",
   "execution_count": 33,
   "metadata": {},
   "outputs": [
    {
     "name": "stdout",
     "output_type": "stream",
     "text": [
      "CPU times: user 1.22 s, sys: 0 ns, total: 1.22 s\n",
      "Wall time: 1.22 s\n"
     ]
    }
   ],
   "source": [
    "%%time\n",
    "sol_node = game.solve()"
   ]
  },
  {
   "cell_type": "code",
   "execution_count": 34,
   "metadata": {},
   "outputs": [
    {
     "data": {
      "text/plain": [
       "<Node (('red', 2, 'h', (2, 4)), ('purple', 3, 'v', (2, 0)), ('light-green', 2, 'v', (3, 1)), ('blue', 3, 'h', (5, 0)), ('grey', 2, 'v', (3, 2)), ('another_blue', 2, 'v', (0, 2)), ('orange', 2, 'h', (0, 0)), ('green', 2, 'v', (0, 3)), ('yellow', 2, 'v', (3, 3)), ('gray', 2, 'v', (3, 4)), ('cyan', 2, 'v', (0, 4)), ('dark', 2, 'h', (5, 3)), ('pink', 2, 'v', (0, 5)), ('magenta', 3, 'v', (3, 5)))>"
      ]
     },
     "execution_count": 34,
     "metadata": {},
     "output_type": "execute_result"
    }
   ],
   "source": [
    "sol_node"
   ]
  },
  {
   "cell_type": "code",
   "execution_count": 35,
   "metadata": {},
   "outputs": [
    {
     "data": {
      "text/plain": [
       "41"
      ]
     },
     "execution_count": 35,
     "metadata": {},
     "output_type": "execute_result"
    }
   ],
   "source": [
    "len(sol_node.path())"
   ]
  },
  {
   "cell_type": "code",
   "execution_count": 36,
   "metadata": {},
   "outputs": [],
   "source": [
    "helper_board = Board(6,2)"
   ]
  },
  {
   "cell_type": "code",
   "execution_count": 37,
   "metadata": {},
   "outputs": [
    {
     "data": {
      "text/plain": [
       "325"
      ]
     },
     "execution_count": 37,
     "metadata": {},
     "output_type": "execute_result"
    }
   ],
   "source": [
    "import gc \n",
    "gc.collect()"
   ]
  },
  {
   "cell_type": "code",
   "execution_count": null,
   "metadata": {},
   "outputs": [
    {
     "name": "stdout",
     "output_type": "stream",
     "text": [
      "|0|\u001b[1m\u001b[1m\u001b[92mX\u001b[0m|\u001b[1m\u001b[1m\u001b[34mX\u001b[0m|\u001b[1m\u001b[1m\u001b[95mX\u001b[0m|\u001b[1m\u001b[1m\u001b[95mX\u001b[0m|\u001b[1m\u001b[1m\u001b[91mX\u001b[0m|\n",
      "|0|\u001b[1m\u001b[1m\u001b[92mX\u001b[0m|\u001b[1m\u001b[1m\u001b[34mX\u001b[0m|\u001b[1m\u001b[1m\u001b[32mX\u001b[0m|\u001b[1m\u001b[1m\u001b[36mX\u001b[0m|\u001b[1m\u001b[1m\u001b[91mX\u001b[0m|\n",
      "|\u001b[1m\u001b[1m\u001b[35mX\u001b[0m|\u001b[1m\u001b[1m\u001b[31mX\u001b[0m|\u001b[1m\u001b[1m\u001b[31mX\u001b[0m|\u001b[1m\u001b[1m\u001b[32mX\u001b[0m|\u001b[1m\u001b[1m\u001b[36mX\u001b[0m|\u001b[1m\u001b[1m\u001b[35mX\u001b[0m|=>\n",
      "|\u001b[1m\u001b[1m\u001b[35mX\u001b[0m|0|\u001b[1m\u001b[1m\u001b[90mX\u001b[0m|\u001b[1m\u001b[1m\u001b[33mX\u001b[0m|\u001b[1m\u001b[1m\u001b[90mX\u001b[0m|\u001b[1m\u001b[1m\u001b[35mX\u001b[0m|\n",
      "|\u001b[1m\u001b[1m\u001b[35mX\u001b[0m|0|\u001b[1m\u001b[1m\u001b[90mX\u001b[0m|\u001b[1m\u001b[1m\u001b[33mX\u001b[0m|\u001b[1m\u001b[1m\u001b[90mX\u001b[0m|\u001b[1m\u001b[1m\u001b[35mX\u001b[0m|\n",
      "|\u001b[1m\u001b[1m\u001b[34mX\u001b[0m|\u001b[1m\u001b[1m\u001b[34mX\u001b[0m|\u001b[1m\u001b[1m\u001b[34mX\u001b[0m|\u001b[1m\u001b[1m\u001b[30mX\u001b[0m|\u001b[1m\u001b[1m\u001b[30mX\u001b[0m|0|\n",
      "\n"
     ]
    },
    {
     "data": {
      "text/plain": [
       "None"
      ]
     },
     "metadata": {},
     "output_type": "display_data"
    }
   ],
   "source": [
    "helper_board = Board(6,2)\n",
    "for state in sol_node.path(): \n",
    "    clear_output(wait=True)\n",
    "    helper_board.recreate_board(state)\n",
    "    p = helper_board.convert_board_to_string()\n",
    "    display(print(p))\n",
    "    time.sleep(.5)\n",
    "    "
   ]
  },
  {
   "cell_type": "code",
   "execution_count": null,
   "metadata": {},
   "outputs": [],
   "source": []
  }
 ],
 "metadata": {
  "kernelspec": {
   "display_name": "Python 3",
   "language": "python",
   "name": "python3"
  },
  "language_info": {
   "codemirror_mode": {
    "name": "ipython",
    "version": 3
   },
   "file_extension": ".py",
   "mimetype": "text/x-python",
   "name": "python",
   "nbconvert_exporter": "python",
   "pygments_lexer": "ipython3",
   "version": "3.6.8"
  }
 },
 "nbformat": 4,
 "nbformat_minor": 2
}
